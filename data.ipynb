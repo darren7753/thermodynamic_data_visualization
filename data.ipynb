{
 "cells": [
  {
   "cell_type": "code",
   "execution_count": 1,
   "metadata": {},
   "outputs": [],
   "source": [
    "import os\n",
    "import pandas as pd\n",
    "\n",
    "from dotenv import load_dotenv\n",
    "from pymongo import MongoClient\n",
    "from tqdm import tqdm"
   ]
  },
  {
   "cell_type": "code",
   "execution_count": 2,
   "metadata": {},
   "outputs": [],
   "source": [
    "df_baja = pd.read_excel(\"Baja.xlsx\")\n",
    "df_pltu = pd.read_excel(\"DATASETPLTU.xlsx\")"
   ]
  },
  {
   "cell_type": "code",
   "execution_count": 3,
   "metadata": {},
   "outputs": [],
   "source": [
    "load_dotenv(\".env\")\n",
    "client = MongoClient(\n",
    "    os.getenv(\"MONGO_CONNECTION_STRING\"),\n",
    "    serverSelectionTimeoutMS=300000\n",
    ")\n",
    "db = client[os.getenv(\"MONGO_DATABASE_NAME\")]\n",
    "collection_baja = db[os.getenv(\"MONGO_COLLECTION_NAME_BAJA\")]\n",
    "collection_pltu = db[os.getenv(\"MONGO_COLLECTION_NAME_PLTU\")]"
   ]
  },
  {
   "cell_type": "code",
   "execution_count": 4,
   "metadata": {},
   "outputs": [],
   "source": [
    "def store_to_mongo(df, collection, mode=\"append\"):\n",
    "    \"\"\"\n",
    "    Stores a dataframe to a MongoDB collection.\n",
    "\n",
    "    Parameters:\n",
    "    df (pd.DataFrame): The dataframe to be stored.\n",
    "    collection (pymongo.collection.Collection): The MongoDB collection.\n",
    "    mode (str): The mode of operation - 'replace' to replace existing data, 'append' to add to existing data.\n",
    "    \"\"\"\n",
    "    # Convert dataframe to list of dictionaries with progress bar\n",
    "    data_dict = [row for row in tqdm(df.to_dict(orient=\"records\"), desc=\"Converting dataframe\")]\n",
    "\n",
    "    if mode == \"replace\":\n",
    "        # Delete all existing documents in the collection\n",
    "        collection.delete_many({})\n",
    "        print(\"Existing data replaced.\")\n",
    "    \n",
    "    # Insert all documents at once\n",
    "    collection.insert_many(data_dict)\n",
    "    print(f\"{len(data_dict)} documents inserted.\")\n",
    "\n",
    "def load_from_mongo(collection):\n",
    "    \"\"\"\n",
    "    Loads data from a MongoDB collection into a pandas dataframe.\n",
    "\n",
    "    Parameters:\n",
    "    collection (pymongo.collection.Collection): The MongoDB collection.\n",
    "\n",
    "    Returns:\n",
    "    pd.DataFrame: The loaded dataframe.\n",
    "    \"\"\"\n",
    "    cursor = collection.find()\n",
    "    df = pd.DataFrame(list(cursor))\n",
    "    \n",
    "    # Remove the MongoDB \"_id\" field if present\n",
    "    if \"_id\" in df.columns:\n",
    "        df.drop(\"_id\", axis=1, inplace=True)\n",
    "    \n",
    "    return df"
   ]
  },
  {
   "cell_type": "code",
   "execution_count": 5,
   "metadata": {},
   "outputs": [
    {
     "name": "stderr",
     "output_type": "stream",
     "text": [
      "Converting dataframe: 100%|██████████| 986/986 [00:00<00:00, 5596189.10it/s]\n"
     ]
    },
    {
     "name": "stdout",
     "output_type": "stream",
     "text": [
      "Existing data replaced.\n",
      "986 documents inserted.\n"
     ]
    }
   ],
   "source": [
    "store_to_mongo(df_baja, collection_baja, mode=\"replace\")"
   ]
  },
  {
   "cell_type": "code",
   "execution_count": 6,
   "metadata": {},
   "outputs": [
    {
     "name": "stderr",
     "output_type": "stream",
     "text": [
      "Converting dataframe: 100%|██████████| 300/300 [00:00<00:00, 1596816.24it/s]\n"
     ]
    },
    {
     "name": "stdout",
     "output_type": "stream",
     "text": [
      "Existing data replaced.\n",
      "300 documents inserted.\n"
     ]
    }
   ],
   "source": [
    "store_to_mongo(df_pltu, collection_pltu, mode=\"replace\")"
   ]
  },
  {
   "cell_type": "code",
   "execution_count": 7,
   "metadata": {},
   "outputs": [],
   "source": [
    "df_baja_loaded = load_from_mongo(collection_baja)\n",
    "df_pltu_loaded = load_from_mongo(collection_pltu)"
   ]
  }
 ],
 "metadata": {
  "kernelspec": {
   "display_name": "base",
   "language": "python",
   "name": "python3"
  },
  "language_info": {
   "codemirror_mode": {
    "name": "ipython",
    "version": 3
   },
   "file_extension": ".py",
   "mimetype": "text/x-python",
   "name": "python",
   "nbconvert_exporter": "python",
   "pygments_lexer": "ipython3",
   "version": "3.11.5"
  }
 },
 "nbformat": 4,
 "nbformat_minor": 2
}
